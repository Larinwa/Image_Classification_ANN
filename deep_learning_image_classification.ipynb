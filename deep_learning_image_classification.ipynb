{
  "nbformat": 4,
  "nbformat_minor": 0,
  "metadata": {
    "colab": {
      "provenance": [],
      "include_colab_link": true
    },
    "kernelspec": {
      "name": "python3",
      "display_name": "Python 3"
    },
    "language_info": {
      "name": "python"
    }
  },
  "cells": [
    {
      "cell_type": "markdown",
      "metadata": {
        "id": "view-in-github",
        "colab_type": "text"
      },
      "source": [
        "<a href=\"https://colab.research.google.com/gist/Larinwa/a236eb8a53bc498b609cdcd1e7954ae0/deep_learning_image_classification.ipynb\" target=\"_parent\"><img src=\"https://colab.research.google.com/assets/colab-badge.svg\" alt=\"Open In Colab\"/></a>"
      ]
    },
    {
      "cell_type": "markdown",
      "source": [
        "### IMAGE CLASSIFICATION WITH ANN"
      ],
      "metadata": {
        "id": "S2Qu-tyr6oTC"
      }
    },
    {
      "cell_type": "code",
      "source": [
        "import torch\n",
        "from torch import nn\n",
        "from torch import optim\n",
        "\n",
        "import torchvision\n",
        "from torchvision import transforms\n",
        "from torch.utils.data import DataLoader\n",
        "\n",
        "from sklearn.metrics import classification_report, confusion_matrix\n",
        "import matplotlib.pyplot as plt"
      ],
      "metadata": {
        "id": "iqa2FZtq6pRU"
      },
      "execution_count": null,
      "outputs": []
    },
    {
      "cell_type": "markdown",
      "source": [
        "### Data Preparation"
      ],
      "metadata": {
        "id": "i3vYsBFk7iPP"
      }
    },
    {
      "cell_type": "code",
      "source": [
        "# setup transformation\n",
        "transform = transforms.Compose([transforms.ToTensor(),\n",
        "                                transforms.Normalize((0.5,),(0.5,))])\n",
        "\n",
        "# import the dataset\n",
        "train_data = torchvision.datasets.MNIST(root = './data', train = True,\n",
        "                                        download = True, transform=transform)\n",
        "test_data = torchvision.datasets.MNIST(root = './data', train = False,\n",
        "                                        download = True, transform=transform)\n",
        "\n",
        "# set up the dataloader\n",
        "train_loader = DataLoader(dataset = train_data, batch_size = 64, shuffle=True)\n",
        "test_loader = DataLoader(dataset = test_data, batch_size = 64, shuffle=True)"
      ],
      "metadata": {
        "colab": {
          "base_uri": "https://localhost:8080/"
        },
        "collapsed": true,
        "id": "LJlh1a-_7l8D",
        "outputId": "007a865e-0402-4202-8c7e-0d91a178ed06"
      },
      "execution_count": null,
      "outputs": [
        {
          "output_type": "stream",
          "name": "stdout",
          "text": [
            "Downloading http://yann.lecun.com/exdb/mnist/train-images-idx3-ubyte.gz\n",
            "Failed to download (trying next):\n",
            "<urlopen error [SSL: CERTIFICATE_VERIFY_FAILED] certificate verify failed: certificate has expired (_ssl.c:1007)>\n",
            "\n",
            "Downloading https://ossci-datasets.s3.amazonaws.com/mnist/train-images-idx3-ubyte.gz\n",
            "Downloading https://ossci-datasets.s3.amazonaws.com/mnist/train-images-idx3-ubyte.gz to ./data/MNIST/raw/train-images-idx3-ubyte.gz\n"
          ]
        },
        {
          "output_type": "stream",
          "name": "stderr",
          "text": [
            "100%|██████████| 9.91M/9.91M [00:00<00:00, 40.4MB/s]\n"
          ]
        },
        {
          "output_type": "stream",
          "name": "stdout",
          "text": [
            "Extracting ./data/MNIST/raw/train-images-idx3-ubyte.gz to ./data/MNIST/raw\n",
            "\n",
            "Downloading http://yann.lecun.com/exdb/mnist/train-labels-idx1-ubyte.gz\n",
            "Failed to download (trying next):\n",
            "<urlopen error [SSL: CERTIFICATE_VERIFY_FAILED] certificate verify failed: certificate has expired (_ssl.c:1007)>\n",
            "\n",
            "Downloading https://ossci-datasets.s3.amazonaws.com/mnist/train-labels-idx1-ubyte.gz\n",
            "Downloading https://ossci-datasets.s3.amazonaws.com/mnist/train-labels-idx1-ubyte.gz to ./data/MNIST/raw/train-labels-idx1-ubyte.gz\n"
          ]
        },
        {
          "output_type": "stream",
          "name": "stderr",
          "text": [
            "100%|██████████| 28.9k/28.9k [00:00<00:00, 1.18MB/s]"
          ]
        },
        {
          "output_type": "stream",
          "name": "stdout",
          "text": [
            "Extracting ./data/MNIST/raw/train-labels-idx1-ubyte.gz to ./data/MNIST/raw\n",
            "\n",
            "Downloading http://yann.lecun.com/exdb/mnist/t10k-images-idx3-ubyte.gz\n"
          ]
        },
        {
          "output_type": "stream",
          "name": "stderr",
          "text": [
            "\n"
          ]
        },
        {
          "output_type": "stream",
          "name": "stdout",
          "text": [
            "Failed to download (trying next):\n",
            "<urlopen error [SSL: CERTIFICATE_VERIFY_FAILED] certificate verify failed: certificate has expired (_ssl.c:1007)>\n",
            "\n",
            "Downloading https://ossci-datasets.s3.amazonaws.com/mnist/t10k-images-idx3-ubyte.gz\n",
            "Downloading https://ossci-datasets.s3.amazonaws.com/mnist/t10k-images-idx3-ubyte.gz to ./data/MNIST/raw/t10k-images-idx3-ubyte.gz\n"
          ]
        },
        {
          "output_type": "stream",
          "name": "stderr",
          "text": [
            "100%|██████████| 1.65M/1.65M [00:00<00:00, 10.5MB/s]\n"
          ]
        },
        {
          "output_type": "stream",
          "name": "stdout",
          "text": [
            "Extracting ./data/MNIST/raw/t10k-images-idx3-ubyte.gz to ./data/MNIST/raw\n",
            "\n",
            "Downloading http://yann.lecun.com/exdb/mnist/t10k-labels-idx1-ubyte.gz\n",
            "Failed to download (trying next):\n",
            "<urlopen error [SSL: CERTIFICATE_VERIFY_FAILED] certificate verify failed: certificate has expired (_ssl.c:1007)>\n",
            "\n",
            "Downloading https://ossci-datasets.s3.amazonaws.com/mnist/t10k-labels-idx1-ubyte.gz\n",
            "Downloading https://ossci-datasets.s3.amazonaws.com/mnist/t10k-labels-idx1-ubyte.gz to ./data/MNIST/raw/t10k-labels-idx1-ubyte.gz\n"
          ]
        },
        {
          "output_type": "stream",
          "name": "stderr",
          "text": [
            "100%|██████████| 4.54k/4.54k [00:00<00:00, 2.55MB/s]\n"
          ]
        },
        {
          "output_type": "stream",
          "name": "stdout",
          "text": [
            "Extracting ./data/MNIST/raw/t10k-labels-idx1-ubyte.gz to ./data/MNIST/raw\n",
            "\n"
          ]
        }
      ]
    },
    {
      "cell_type": "code",
      "source": [
        "## inspect the images\n",
        "\n",
        "for image, label in train_loader:\n",
        "  image = image[15].detach().numpy()\n",
        "  label = label[15]\n",
        "  image = image.reshape(28, 28)\n",
        "  plt.imshow(image)\n",
        "  plt.title(f'label: {label}')\n",
        "  break"
      ],
      "metadata": {
        "colab": {
          "base_uri": "https://localhost:8080/",
          "height": 452
        },
        "id": "DEriDLmp_PkB",
        "outputId": "ba071f94-9721-4096-c877-f1cb140400c0"
      },
      "execution_count": null,
      "outputs": [
        {
          "output_type": "display_data",
          "data": {
            "text/plain": [
              "<Figure size 640x480 with 1 Axes>"
            ],
            "image/png": "[encoded data removed]"
          },
          "metadata": {}
        }
      ]
    },
    {
      "cell_type": "code",
      "source": [
        "# train the neural network\n",
        "\n",
        "class Image_Ann(nn.Module):\n",
        "\n",
        "  def __init__(self) -> None:\n",
        "    super().__init__()\n",
        "    self.input_layer = nn.Linear(28*28, 500)\n",
        "    self.fc1 = nn.Linear(500, 256)\n",
        "    self.fc2 = nn.Linear(256, 128)\n",
        "    self.fc3 = nn.Linear(128, 64)\n",
        "    self.out = nn.Linear(64, 10)\n",
        "\n",
        "  def forward(self, x:torch.tensor):\n",
        "\n",
        "    x = x.view(-1, 28*28)\n",
        "    result = torch.relu(self.input_layer(x))\n",
        "    result = torch.relu(self.fc1(result))\n",
        "    result = torch.relu(self.fc2(result))\n",
        "    result = torch.relu(self.fc3(result))\n",
        "    result = self.out(result)\n",
        "\n",
        "    return result"
      ],
      "metadata": {
        "id": "dC9RtwmVE7ox"
      },
      "execution_count": null,
      "outputs": []
    },
    {
      "cell_type": "code",
      "source": [
        "# initialize the model, optimizer, criterion, learning rate, epoch\n",
        "\n",
        "model = Image_Ann()\n",
        "criterion = nn.CrossEntropyLoss()\n",
        "learning_rate = 1e-4\n",
        "epochs = 5\n",
        "optimizer = optim.SGD(params = model.parameters(), lr=learning_rate)"
      ],
      "metadata": {
        "id": "SwVIpZPvG0sr"
      },
      "execution_count": null,
      "outputs": []
    },
    {
      "cell_type": "code",
      "source": [
        "# set up the training loop\n",
        "\n",
        "for epoch in range(epochs):\n",
        "  training_loss = 0.0\n",
        "  for i, (image, label) in enumerate(train_loader):\n",
        "    # wipe gradients\n",
        "    optimizer.zero_grad()\n",
        "\n",
        "    # forward pass\n",
        "    train_preds = model(image)\n",
        "    loss = criterion(train_preds, label)\n",
        "\n",
        "    # back propagate\n",
        "    loss.backward()\n",
        "    optimizer.step()\n",
        "\n",
        "    training_loss += loss.item()\n",
        "    if (i % 100) == 0:\n",
        "      print(f'Epoch: {epoch+1}/{epochs}...step: {i}/{len(train_loader)}...Loss: {loss.item()}')\n",
        "\n",
        "  print(f'Epoch: {epoch+1}/{epochs}.....Loss: {training_loss/len(train_loader)}')"
      ],
      "metadata": {
        "colab": {
          "base_uri": "https://localhost:8080/"
        },
        "id": "yH9KDJU9IMD-",
        "outputId": "fe3a5ec9-3a03-41da-cda6-576765124962"
      },
      "execution_count": null,
      "outputs": [
        {
          "output_type": "stream",
          "name": "stdout",
          "text": [
            "Epoch: 1/5...step: 0/938...Loss: 2.3092660903930664\n",
            "Epoch: 1/5...step: 100/938...Loss: 1.1810911893844604\n",
            "Epoch: 1/5...step: 200/938...Loss: 0.7995656728744507\n",
            "Epoch: 1/5...step: 300/938...Loss: 0.44711920619010925\n",
            "Epoch: 1/5...step: 400/938...Loss: 0.6035884022712708\n",
            "Epoch: 1/5...step: 500/938...Loss: 0.41447657346725464\n",
            "Epoch: 1/5...step: 600/938...Loss: 0.4197411835193634\n",
            "Epoch: 1/5...step: 700/938...Loss: 0.5173443555831909\n",
            "Epoch: 1/5...step: 800/938...Loss: 0.32503631711006165\n",
            "Epoch: 1/5...step: 900/938...Loss: 0.37931951880455017\n",
            "Epoch: 1/5.....Loss: 0.6919262602226313\n",
            "Epoch: 2/5...step: 0/938...Loss: 0.4407918155193329\n",
            "Epoch: 2/5...step: 100/938...Loss: 0.44452017545700073\n",
            "Epoch: 2/5...step: 200/938...Loss: 0.3855300545692444\n",
            "Epoch: 2/5...step: 300/938...Loss: 0.358805388212204\n",
            "Epoch: 2/5...step: 400/938...Loss: 0.2917380630970001\n",
            "Epoch: 2/5...step: 500/938...Loss: 0.3531985580921173\n",
            "Epoch: 2/5...step: 600/938...Loss: 0.34331369400024414\n",
            "Epoch: 2/5...step: 700/938...Loss: 0.21922767162322998\n",
            "Epoch: 2/5...step: 800/938...Loss: 0.499467134475708\n",
            "Epoch: 2/5...step: 900/938...Loss: 0.15951789915561676\n",
            "Epoch: 2/5.....Loss: 0.2967391790055644\n",
            "Epoch: 3/5...step: 0/938...Loss: 0.14931811392307281\n",
            "Epoch: 3/5...step: 100/938...Loss: 0.23943489789962769\n",
            "Epoch: 3/5...step: 200/938...Loss: 0.3264726400375366\n",
            "Epoch: 3/5...step: 300/938...Loss: 0.19088268280029297\n",
            "Epoch: 3/5...step: 400/938...Loss: 0.33887481689453125\n",
            "Epoch: 3/5...step: 500/938...Loss: 0.21655678749084473\n",
            "Epoch: 3/5...step: 600/938...Loss: 0.2912949323654175\n",
            "Epoch: 3/5...step: 700/938...Loss: 0.10663969069719315\n",
            "Epoch: 3/5...step: 800/938...Loss: 0.1447610855102539\n",
            "Epoch: 3/5...step: 900/938...Loss: 0.19466695189476013\n",
            "Epoch: 3/5.....Loss: 0.22014870016035368\n",
            "Epoch: 4/5...step: 0/938...Loss: 0.42562806606292725\n",
            "Epoch: 4/5...step: 100/938...Loss: 0.20717361569404602\n",
            "Epoch: 4/5...step: 200/938...Loss: 0.2969219982624054\n",
            "Epoch: 4/5...step: 300/938...Loss: 0.24424803256988525\n",
            "Epoch: 4/5...step: 400/938...Loss: 0.1200641617178917\n",
            "Epoch: 4/5...step: 500/938...Loss: 0.1786012500524521\n",
            "Epoch: 4/5...step: 600/938...Loss: 0.09728190302848816\n",
            "Epoch: 4/5...step: 700/938...Loss: 0.1378561556339264\n",
            "Epoch: 4/5...step: 800/938...Loss: 0.12783458828926086\n",
            "Epoch: 4/5...step: 900/938...Loss: 0.2686002552509308\n",
            "Epoch: 4/5.....Loss: 0.17288361963972862\n",
            "Epoch: 5/5...step: 0/938...Loss: 0.2429599165916443\n",
            "Epoch: 5/5...step: 100/938...Loss: 0.18550848960876465\n",
            "Epoch: 5/5...step: 200/938...Loss: 0.23572655022144318\n",
            "Epoch: 5/5...step: 300/938...Loss: 0.15733695030212402\n",
            "Epoch: 5/5...step: 400/938...Loss: 0.12152649462223053\n",
            "Epoch: 5/5...step: 500/938...Loss: 0.23283569514751434\n",
            "Epoch: 5/5...step: 600/938...Loss: 0.11715437471866608\n",
            "Epoch: 5/5...step: 700/938...Loss: 0.17243286967277527\n",
            "Epoch: 5/5...step: 800/938...Loss: 0.13145560026168823\n",
            "Epoch: 5/5...step: 900/938...Loss: 0.052235908806324005\n",
            "Epoch: 5/5.....Loss: 0.14229525790921152\n"
          ]
        }
      ]
    },
    {
      "cell_type": "code",
      "source": [
        "# evaluate the model\n",
        "all_preds = []\n",
        "all_labels = []\n",
        "\n",
        "model.eval()\n",
        "with torch.no_grad():\n",
        "  for image, label in test_loader:\n",
        "    test_pred = model(image)\n",
        "    _, preds = torch.max(test_pred, 1)\n",
        "    preds = preds.detach().numpy()\n",
        "    label = label.detach().numpy()\n",
        "    all_labels.extend(label)\n",
        "    all_preds.extend(preds)"
      ],
      "metadata": {
        "id": "htjwLHT0I_ie"
      },
      "execution_count": null,
      "outputs": []
    },
    {
      "cell_type": "code",
      "source": [
        "import seaborn as sns\n",
        "\n",
        "\n",
        "sns.heatmap(data = confusion_matrix(all_labels, all_preds),\n",
        "            annot = True, cbar = False, fmt = 'd')"
      ],
      "metadata": {
        "colab": {
          "base_uri": "https://localhost:8080/",
          "height": 447
        },
        "id": "SPrHsW4BJPUF",
        "outputId": "08a18a70-9a31-43dd-b892-0f214331cd13"
      },
      "execution_count": null,
      "outputs": [
        {
          "output_type": "execute_result",
          "data": {
            "text/plain": [
              "<Axes: >"
            ]
          },
          "metadata": {},
          "execution_count": 34
        },
        {
          "output_type": "display_data",
          "data": {
            "text/plain": [
              "<Figure size 640x480 with 1 Axes>"
            ],
            "image/png": "[encoded data removed]"
          },
          "metadata": {}
        }
      ]
    },
    {
      "cell_type": "code",
      "source": [
        "print(classification_report(all_labels, all_preds))"
      ],
      "metadata": {
        "colab": {
          "base_uri": "https://localhost:8080/"
        },
        "id": "dI9mZvAGNcIl",
        "outputId": "f1bebaa2-24b3-4981-f91a-71c44b573fbc"
      },
      "execution_count": null,
      "outputs": [
        {
          "output_type": "stream",
          "name": "stdout",
          "text": [
            "              precision    recall  f1-score   support\n",
            "\n",
            "           0       0.96      0.99      0.97       980\n",
            "           1       0.99      0.98      0.98      1135\n",
            "           2       0.96      0.96      0.96      1032\n",
            "           3       0.93      0.97      0.95      1010\n",
            "           4       0.97      0.94      0.96       982\n",
            "           5       0.98      0.92      0.95       892\n",
            "           6       0.98      0.95      0.97       958\n",
            "           7       0.96      0.96      0.96      1028\n",
            "           8       0.93      0.96      0.94       974\n",
            "           9       0.94      0.95      0.94      1009\n",
            "\n",
            "    accuracy                           0.96     10000\n",
            "   macro avg       0.96      0.96      0.96     10000\n",
            "weighted avg       0.96      0.96      0.96     10000\n",
            "\n"
          ]
        }
      ]
    },
    {
      "cell_type": "code",
      "source": [
        "torch.max(test_pred, 1)"
      ],
      "metadata": {
        "colab": {
          "base_uri": "https://localhost:8080/"
        },
        "id": "rZw9tYX7PfcO",
        "outputId": "fa819559-a3c5-4f93-e096-2fc410a0d063"
      },
      "execution_count": null,
      "outputs": [
        {
          "output_type": "execute_result",
          "data": {
            "text/plain": [
              "torch.return_types.max(\n",
              "values=tensor([ 5.0572, 10.0814,  5.8615,  9.1214,  9.5158,  6.6479,  5.7087,  9.2443,\n",
              "        11.5256,  7.7962,  8.3372,  9.3526,  8.1468,  8.3563,  3.2146,  7.8459]),\n",
              "indices=tensor([4, 9, 2, 0, 0, 1, 0, 7, 3, 5, 0, 3, 2, 5, 4, 0]))"
            ]
          },
          "metadata": {},
          "execution_count": 36
        }
      ]
    },
    {
      "cell_type": "code",
      "source": [
        "test_pred"
      ],
      "metadata": {
        "colab": {
          "base_uri": "https://localhost:8080/"
        },
        "id": "Ef6JqTAeTQSH",
        "outputId": "d1069152-0011-4734-e726-cbb2901292d6"
      },
      "execution_count": null,
      "outputs": [
        {
          "output_type": "execute_result",
          "data": {
            "text/plain": [
              "tensor([[  0.0847,  -6.0915,  -2.1836,  -5.3816,   5.0572,  -1.6188,  -2.5016,\n",
              "           1.1139,  -1.0013,   2.9665],\n",
              "        [ -4.0607,  -5.9262,  -4.4516,   0.0495,   4.5871,  -1.8977, -12.0636,\n",
              "           3.7705,   1.9786,  10.0814],\n",
              "        [  0.2222,   0.8086,   5.8615,   2.3511,  -8.0490,  -1.8485,  -0.7114,\n",
              "          -4.0872,   1.3665,  -8.3436],\n",
              "        [  9.1214,  -2.8407,   1.8359,  -4.2757,  -6.0658,  -0.8113,   1.5936,\n",
              "          -3.1498,  -2.6733,  -3.6296],\n",
              "        [  9.5158,  -3.0137,   1.2422,  -2.4521,  -5.7157,   0.2946,   0.2549,\n",
              "          -0.6645,  -4.6960,  -2.6284],\n",
              "        [ -4.2805,   6.6479,  -0.5699,  -1.9706,  -1.5191,  -3.1893,  -3.8230,\n",
              "           2.3883,   1.6750,  -0.7705],\n",
              "        [  5.7087,  -4.9054,   0.2530,  -2.5470,  -4.0570,  -2.1386,  -2.1576,\n",
              "          -1.6046,   0.6462,   0.7090],\n",
              "        [ -1.9888,  -2.4832,   4.5372,   4.0117,  -5.4753,  -4.9691, -10.9313,\n",
              "           9.2443,   2.6797,   0.8223],\n",
              "        [ -4.1534,  -4.1722,  -1.3506,  11.5256,  -8.1228,   4.8493,  -9.7183,\n",
              "          -3.4541,   3.5818,  -1.4022],\n",
              "        [ -4.5096,  -4.2613,  -4.3902,   3.9438,  -3.3970,   7.7962,  -1.5506,\n",
              "          -8.5861,   3.0465,  -4.0579],\n",
              "        [  8.3372,  -4.5099,   0.4557,  -5.6393,  -3.9548,  -0.5625,  -0.7931,\n",
              "           0.2775,  -2.3654,   1.6011],\n",
              "        [ -3.4794,  -3.8422,   2.8433,   9.3526,  -5.9801,  -1.9220, -10.1819,\n",
              "           2.7694,   1.2933,  -0.3061],\n",
              "        [ -2.4196,   1.9180,   8.1468,   3.3679,  -9.3135,  -1.1357,  -1.5930,\n",
              "          -4.2458,   2.0600, -10.1016],\n",
              "        [ -2.3988,  -2.9659,  -2.8021,   1.9417,  -1.4993,   8.3563,  -1.5459,\n",
              "          -5.4834,   0.6339,  -6.4539],\n",
              "        [ -3.4097,  -4.0956,  -1.7819,  -2.0773,   3.2146,   1.2491,  -3.2805,\n",
              "          -1.3464,  -0.5984,   1.9325],\n",
              "        [  7.8459,  -4.3021,   1.3356,  -4.7487,  -5.5338,  -0.5157,   0.7697,\n",
              "          -4.9018,   0.6889,  -3.0310]])"
            ]
          },
          "metadata": {},
          "execution_count": 37
        }
      ]
    },
    {
      "cell_type": "code",
      "source": [],
      "metadata": {
        "id": "_Z8e3CBHTh1W"
      },
      "execution_count": null,
      "outputs": []
    }
  ]
}